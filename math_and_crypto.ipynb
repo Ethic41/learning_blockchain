{
 "cells": [
  {
   "cell_type": "code",
   "execution_count": 2,
   "metadata": {},
   "outputs": [],
   "source": [
    "#!/usr/bin/env python\n",
    "# -=-<[ Bismillahirrahmanirrahim ]>-=-\n",
    "# -*- coding: utf-8 -*-\n",
    "# @Date    : 2022-12-06 03:58:17\n",
    "# @Author  : Dahir Muhammad Dahir (dahirmuhammad3@gmail.com)\n",
    "# @Link    : link\n",
    "# @Book : Programming Bitcoin: Learn How to Program Bitcoin from Scratch (https://www.amazon.com/Programming-Bitcoin-Learn-Program-Scratch/dp/1492031496)\n",
    "\n",
    "\n",
    "# Chapter 1: Finite Fields\n",
    "\n",
    "# Finite Field Definition\n",
    "\"\"\"\n",
    "Mathematically, a finite field is defined as a finite set of numbers and two operations +\n",
    "(addition) and ⋅ (multiplication) that satisfy the following:\n",
    "\n",
    "1. If a and b are in the set, a + b and a ⋅ b are in the set. We call this property closed.\n",
    "2. 0 exists and has the property a + 0 = a. We call this the additive identity.\n",
    "3. 1 exists and has the property a ⋅ 1 = a. We call this the multiplicative identity.\n",
    "4. If a is in the set, -a is in the set, which is defined as the value that makes a + (-a) = 0. \n",
    "   This is what we call the additive inverse.\n",
    "5. If a is in the set and is not 0, a-1 is in the set, which is defined as the value that\n",
    "makes a ⋅ a-1 = 1. This is what we call the multiplicative inverse.\n",
    "\n",
    "Notations: \n",
    "a, b ∈ X means “a, b are element of X”\n",
    "\n",
    "\"\"\"\n",
    "\n",
    "class FieldElement:\n",
    "\n",
    "    def __init__(self, num, prime):\n",
    "        if num >= prime or num < 0:\n",
    "            error = f\"Num {num} not in field range 0 to {prime - 1}\"\n",
    "            raise ValueError(error)\n",
    "        \n",
    "        self.num = num\n",
    "        self.prime = prime\n",
    "    \n",
    "\n",
    "    def __repr__(self):\n",
    "        return f\"FieldElement_{self.prime}({self.num})\"\n",
    "    \n",
    "\n",
    "    def __eq__(self, other):\n",
    "        if other is None:\n",
    "            return False\n",
    "        \n",
    "        return self.num == other.num and self.prime == other.prime\n",
    "    \n",
    "    def __ne__(self, other):\n",
    "        \n",
    "        \"Exercise 1: implement this\"\n",
    "\n",
    "        if other is None:\n",
    "            return True\n",
    "        \n",
    "        return not self == other\n",
    "    \n",
    "\n",
    "    def __verify_field__(self, other, operation):\n",
    "        if self.prime != other.prime:\n",
    "            raise TypeError(f\"Cannot {operation} two numbers in different Fields\")\n",
    "    \n",
    "    def __add__(self, other):\n",
    "        self.__verify_field__(other, \"add\")\n",
    "        \n",
    "        num = (self.num + other.num) % self.prime\n",
    "        return self.__class__(num, self.prime)\n",
    "\n",
    "\n",
    "    def __sub__(self, other):\n",
    "        self.__verify_field__(other, \"subtract\")\n",
    "\n",
    "        num = (self.num - other.num) % self.prime\n",
    "        return self.__class__(num, self.prime)\n",
    "    \n",
    "\n",
    "    def __mul__(self, other):\n",
    "        self.__verify_field__(other, \"multiply\")\n",
    "\n",
    "        num = (self.num * other.num) % self.prime\n",
    "        return self.__class__(num, self.prime)\n",
    "    \n",
    "\n",
    "    def __pow__(self, exponent):\n",
    "        n = exponent % (self.prime - 1)\n",
    "        num = pow(self.num, n, self.prime)\n",
    "        return self.__class__(num, self.prime)\n",
    "    \n",
    "\n",
    "    def __truediv__(self, other):\n",
    "        self.__verify_field__(other, \"divide\")\n",
    "\n",
    "        num = (self.num * pow(other.num, self.prime - 2, self.prime)) % self.prime\n",
    "        return self.__class__(num, self.prime)\n",
    "    \n",
    "    \n",
    "\n"
   ]
  },
  {
   "cell_type": "code",
   "execution_count": 3,
   "metadata": {},
   "outputs": [
    {
     "name": "stdout",
     "output_type": "stream",
     "text": [
      "False\n"
     ]
    }
   ],
   "source": [
    "a = FieldElement(7, 13)\n",
    "b = FieldElement(6, 13)\n",
    "\n",
    "print(a == b)\n"
   ]
  },
  {
   "cell_type": "code",
   "execution_count": 4,
   "metadata": {},
   "outputs": [
    {
     "name": "stdout",
     "output_type": "stream",
     "text": [
      "True\n"
     ]
    }
   ],
   "source": [
    "x = FieldElement(7, 13)\n",
    "y = FieldElement(12, 13)\n",
    "z = FieldElement(7, 13)\n",
    "\n",
    "print(x != y)\n"
   ]
  },
  {
   "cell_type": "code",
   "execution_count": 5,
   "metadata": {},
   "outputs": [
    {
     "data": {
      "text/plain": [
       "FieldElement_13(8)"
      ]
     },
     "execution_count": 5,
     "metadata": {},
     "output_type": "execute_result"
    }
   ],
   "source": [
    "x - y"
   ]
  },
  {
   "cell_type": "code",
   "execution_count": 6,
   "metadata": {},
   "outputs": [
    {
     "name": "stdout",
     "output_type": "stream",
     "text": [
      "p = 7\n",
      "[0, 1, 1, 1, 1, 1, 1]\n",
      "p = 11\n",
      "[0, 1, 1, 1, 1, 1, 1, 1, 1, 1, 1]\n",
      "p = 17\n",
      "[0, 1, 1, 1, 1, 1, 1, 1, 1, 1, 1, 1, 1, 1, 1, 1, 1]\n",
      "p = 31\n",
      "[0, 1, 1, 1, 1, 1, 1, 1, 1, 1, 1, 1, 1, 1, 1, 1, 1, 1, 1, 1, 1, 1, 1, 1, 1, 1, 1, 1, 1, 1, 1]\n"
     ]
    }
   ],
   "source": [
    "# Exercise 7\n",
    "\n",
    "\"\"\"\n",
    "For p = 7, 11, 17, 31, what is this set in Fp?\n",
    "{1^(p - 1), 2^(p - 1), 3^(p - 1), 4^(p - 1), ... (p - 1)^(p - 1)}\n",
    "\"\"\"\n",
    "\n",
    "ps = [7, 11, 17, 31]\n",
    "\n",
    "for p in ps:\n",
    "    print(f\"p = {p}\")\n",
    "    print([pow(i, p - 1, p) for i in range(p)])\n",
    "\n",
    "\n"
   ]
  },
  {
   "cell_type": "code",
   "execution_count": 7,
   "metadata": {},
   "outputs": [
    {
     "data": {
      "text/plain": [
       "\"\\nn^(p - 1) mod p = 1\\n\\nbecause division is the inverse of multiplication, we know:\\na / b = a * (1 / b) = a * b^-1\\n\\ntherefore we can reduce any division problem to a multiplication problem, if we know\\nthe multiplicative inverse of b (b^-1). This is where Fermat's Little Theorem comes into play.\\nwe know:\\n\\nb^(p - 1) = 1\\n\\nbecause p is prime. Thus:\\nb^-1 = b^-1 * 1 = b^-1 * b^(p - 1) = b^(p - 2)\\n\\ntherefore:\\nb^-1 = b^(p - 2)\\n\\ntherefore for F19\\n\\n2/7 = 2 * 7 ^ (19 - 2) = 2 . 7 ^ 17 % 19 = 3\\n7/5 = 7 * 5 ^ (19 - 2) = 7 . 5 ^ 17 % 19 = 9\\n\\n\\n\""
      ]
     },
     "execution_count": 7,
     "metadata": {},
     "output_type": "execute_result"
    }
   ],
   "source": [
    "# Fermat's Little Theorem\n",
    "\"\"\"\n",
    "n^(p - 1) mod p = 1\n",
    "\n",
    "because division is the inverse of multiplication, we know:\n",
    "a / b = a * (1 / b) = a * b^-1\n",
    "\n",
    "therefore we can reduce any division problem to a multiplication problem, if we know\n",
    "the multiplicative inverse of b (b^-1). This is where Fermat's Little Theorem comes into play.\n",
    "we know:\n",
    "\n",
    "b^(p - 1) = 1\n",
    "\n",
    "because p is prime. Thus:\n",
    "b^-1 = b^-1 * 1 = b^-1 * b^(p - 1) = b^(p - 2)\n",
    "\n",
    "therefore:\n",
    "b^-1 = b^(p - 2)\n",
    "\n",
    "therefore for F19\n",
    "\n",
    "2/7 = 2 * 7 ^ (19 - 2) = 2 . 7 ^ 17 % 19 = 3\n",
    "7/5 = 7 * 5 ^ (19 - 2) = 7 . 5 ^ 17 % 19 = 9\n",
    "\n",
    "\n",
    "\"\"\""
   ]
  },
  {
   "cell_type": "code",
   "execution_count": 8,
   "metadata": {},
   "outputs": [
    {
     "data": {
      "text/plain": [
       "'\\nFor F31\\n\\n3 / 24 = 3 * 24 ^ (31 - 2) = 3 * 24 ^ 29 % 31 = 4\\n17 ^ -3 = 17 ^ (31 - 4) = 17 ^ 27 % 31 = 29\\n4^-4 * 11 = 4 ^ (31 - 5) * 11 % 31 = 13\\n\\n\\n'"
      ]
     },
     "execution_count": 8,
     "metadata": {},
     "output_type": "execute_result"
    }
   ],
   "source": [
    "# Exercise 8\n",
    "\n",
    "\"\"\"\n",
    "For F31\n",
    "\n",
    "3 / 24 = 3 * 24 ^ (31 - 2) = 3 * 24 ^ 29 % 31 = 4\n",
    "17 ^ -3 = 17 ^ (31 - 4) = 17 ^ 27 % 31 = 29\n",
    "4^-4 * 11 = 4 ^ (31 - 5) * 11 % 31 = 13\n",
    "\n",
    "\n",
    "\"\"\""
   ]
  },
  {
   "cell_type": "code",
   "execution_count": 9,
   "metadata": {},
   "outputs": [
    {
     "data": {
      "text/plain": [
       "FieldElement_31(4)"
      ]
     },
     "execution_count": 9,
     "metadata": {},
     "output_type": "execute_result"
    }
   ],
   "source": [
    "a = FieldElement(3, 31)\n",
    "b = FieldElement(24, 31)\n",
    "\n",
    "a / b\n"
   ]
  },
  {
   "cell_type": "code",
   "execution_count": 10,
   "metadata": {},
   "outputs": [
    {
     "data": {
      "text/plain": [
       "FieldElement_31(29)"
      ]
     },
     "execution_count": 10,
     "metadata": {},
     "output_type": "execute_result"
    }
   ],
   "source": [
    "a = FieldElement(17, 31)\n",
    "b = FieldElement(4, 31)\n",
    "\n",
    "a ** -3"
   ]
  },
  {
   "cell_type": "code",
   "execution_count": 11,
   "metadata": {},
   "outputs": [
    {
     "data": {
      "text/plain": [
       "FieldElement_31(13)"
      ]
     },
     "execution_count": 11,
     "metadata": {},
     "output_type": "execute_result"
    }
   ],
   "source": [
    "b ** -4 * FieldElement(11, 31)"
   ]
  },
  {
   "cell_type": "code",
   "execution_count": 12,
   "metadata": {},
   "outputs": [
    {
     "data": {
      "text/plain": [
       "True"
      ]
     },
     "execution_count": 12,
     "metadata": {},
     "output_type": "execute_result"
    }
   ],
   "source": [
    "a = FieldElement(7, 13)\n",
    "b = FieldElement(8, 13)\n",
    "\n",
    "a ** -3 == b"
   ]
  },
  {
   "cell_type": "code",
   "execution_count": 14,
   "metadata": {},
   "outputs": [],
   "source": [
    "\n",
    "# Chapter 2: Elliptic Curves\n",
    "\n",
    "# Elliptic Curve Definition\n",
    "\"\"\"\n",
    "An elliptic curve is a set of points on a plane defined by an equation of the form: \n",
    "y^2 = x^3 + ax + b\n",
    "\n",
    "Elliptic curves are like many equations you've seen since pre-algebra. They have y on\n",
    "one side and x on the other.\n",
    "\n",
    "Specifically, the elliptic curve used in Bitcoin is called secp256k1 and it uses this \n",
    "particular equation:\n",
    "\n",
    "y^2 = x^3 + 7\n",
    "\n",
    "The canonical form is:\n",
    "y^2 = x^3 + ax + b, where a = 0 and b = 7\n",
    "\n",
    "For a variety of reasons that will be made clear later, we are not interested in the curve\n",
    "itself, but specific points on the curve. For example, in the curve y^2 = x^3 + 5x + 7, we\n",
    "are interested in the coordinate (-1,1). We are thus going to define the class Point to\n",
    "be a point on a specific curve. The curve has the form y^2 = x^3 + ax + b, so we can\n",
    "define the curve with just the two numbers a and b.\n",
    "\n",
    "\"\"\"\n",
    "\n",
    "class Point:\n",
    "    \n",
    "    def __init__(self, x, y, a, b):\n",
    "        self.a = a\n",
    "        self.b = b\n",
    "        self.x = x\n",
    "        self.y = y\n",
    "        if self.y**2 != self.x**3 + a * x + b:\n",
    "            raise ValueError(f\"({x}, {y}) is not on the curve\")\n",
    "    \n",
    "    def __eq__(self, other):\n",
    "        return self.x == other.x and self.y == other.y and self.a == other.a and self.b == other.b\n",
    "    \n",
    "\n",
    "    def __repr__(self):\n",
    "        return f\"Point({self.x}, {self.y})_curve({self.a}, {self.b})\"\n",
    "\n"
   ]
  },
  {
   "cell_type": "code",
   "execution_count": 15,
   "metadata": {},
   "outputs": [],
   "source": [
    "p1 = Point(-1, -1, 5, 7)"
   ]
  },
  {
   "cell_type": "code",
   "execution_count": 17,
   "metadata": {},
   "outputs": [],
   "source": [
    "p2 = Point(-1, -1, 5, 7)"
   ]
  },
  {
   "cell_type": "code",
   "execution_count": 18,
   "metadata": {},
   "outputs": [
    {
     "data": {
      "text/plain": [
       "True"
      ]
     },
     "execution_count": 18,
     "metadata": {},
     "output_type": "execute_result"
    }
   ],
   "source": [
    "p1 == p2"
   ]
  },
  {
   "cell_type": "code",
   "execution_count": 25,
   "metadata": {},
   "outputs": [],
   "source": [
    "# Exercise 1\n",
    "\n",
    "\"\"\"\n",
    "Determine which of these points are the curve y^2 = x^3 + 5x + 7:\n",
    "\n",
    "(2,4), (-1,-1), (18,77), (5,7)\n",
    "\n",
    "\"\"\"\n",
    "# all commented out points are not on the curve\n",
    "\n",
    "# p1 = Point(2, 4, 5, 7)  \n",
    "p2 = Point(-1, -1, 5, 7) \n",
    "p3 = Point(18, 77, 5, 7)\n",
    "# p4 = Point(5, 7, 5, 7)"
   ]
  },
  {
   "cell_type": "code",
   "execution_count": null,
   "metadata": {},
   "outputs": [],
   "source": []
  }
 ],
 "metadata": {
  "kernelspec": {
   "display_name": "Python 3.10.6 64-bit",
   "language": "python",
   "name": "python3"
  },
  "language_info": {
   "codemirror_mode": {
    "name": "ipython",
    "version": 3
   },
   "file_extension": ".py",
   "mimetype": "text/x-python",
   "name": "python",
   "nbconvert_exporter": "python",
   "pygments_lexer": "ipython3",
   "version": "3.10.6"
  },
  "orig_nbformat": 4,
  "vscode": {
   "interpreter": {
    "hash": "916dbcbb3f70747c44a77c7bcd40155683ae19c65e1c03b4aa3499c5328201f1"
   }
  }
 },
 "nbformat": 4,
 "nbformat_minor": 2
}
