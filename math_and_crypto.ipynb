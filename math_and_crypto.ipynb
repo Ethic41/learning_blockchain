{
 "cells": [
  {
   "cell_type": "code",
   "execution_count": 66,
   "metadata": {},
   "outputs": [],
   "source": [
    "#!/usr/bin/env python\n",
    "# -=-<[ Bismillahirrahmanirrahim ]>-=-\n",
    "# -*- coding: utf-8 -*-\n",
    "# @Date    : 2022-12-06 03:58:17\n",
    "# @Author  : Dahir Muhammad Dahir (dahirmuhammad3@gmail.com)\n",
    "# @Link    : link\n",
    "# @Book : Programming Bitcoin: Learn How to Program Bitcoin from Scratch (https://www.amazon.com/Programming-Bitcoin-Learn-Program-Scratch/dp/1492031496)\n",
    "\n",
    "\n",
    "# Finite Field Definition\n",
    "\"\"\"\n",
    "Mathematically, a finite field is defined as a finite set of numbers and two operations +\n",
    "(addition) and ⋅ (multiplication) that satisfy the following:\n",
    "\n",
    "1. If a and b are in the set, a + b and a ⋅ b are in the set. We call this property closed.\n",
    "2. 0 exists and has the property a + 0 = a. We call this the additive identity.\n",
    "3. 1 exists and has the property a ⋅ 1 = a. We call this the multiplicative identity.\n",
    "4. If a is in the set, -a is in the set, which is defined as the value that makes a + (-a) = 0. \n",
    "   This is what we call the additive inverse.\n",
    "5. If a is in the set and is not 0, a-1 is in the set, which is defined as the value that\n",
    "makes a ⋅ a-1 = 1. This is what we call the multiplicative inverse.\n",
    "\n",
    "Notations: \n",
    "a, b ∈ X means “a, b are element of X”\n",
    "\n",
    "\"\"\"\n",
    "\n",
    "class FieldElement:\n",
    "\n",
    "    def __init__(self, num, prime):\n",
    "        if num >= prime or num < 0:\n",
    "            error = f\"Num {num} not in field range 0 to {prime - 1}\"\n",
    "            raise ValueError(error)\n",
    "        \n",
    "        self.num = num\n",
    "        self.prime = prime\n",
    "    \n",
    "\n",
    "    def __repr__(self):\n",
    "        return f\"FieldElement_{self.prime}({self.num})\"\n",
    "    \n",
    "\n",
    "    def __eq__(self, other):\n",
    "        if other is None:\n",
    "            return False\n",
    "        \n",
    "        return self.num == other.num and self.prime == other.prime\n",
    "    \n",
    "    def __ne__(self, other):\n",
    "        \n",
    "        \"Exercise 1: implement this\"\n",
    "\n",
    "        if other is None:\n",
    "            return True\n",
    "        \n",
    "        return not self == other\n",
    "    \n",
    "\n",
    "    def __verify_field__(self, other, operation):\n",
    "        if self.prime != other.prime:\n",
    "            raise TypeError(f\"Cannot {operation} two numbers in different Fields\")\n",
    "    \n",
    "    def __add__(self, other):\n",
    "        self.__verify_field__(other, \"add\")\n",
    "        \n",
    "        num = (self.num + other.num) % self.prime\n",
    "        return self.__class__(num, self.prime)\n",
    "\n",
    "\n",
    "    def __sub__(self, other):\n",
    "        self.__verify_field__(other, \"subtract\")\n",
    "\n",
    "        num = (self.num - other.num) % self.prime\n",
    "        return self.__class__(num, self.prime)\n",
    "    \n",
    "\n",
    "    def __mul__(self, other):\n",
    "        self.__verify_field__(other, \"multiply\")\n",
    "\n",
    "        num = (self.num * other.num) % self.prime\n",
    "        return self.__class__(num, self.prime)\n",
    "    \n",
    "\n",
    "    def __pow__(self, exponent):\n",
    "        n = exponent % (self.prime - 1)\n",
    "        num = pow(self.num, n, self.prime)\n",
    "        return self.__class__(num, self.prime)\n",
    "    \n",
    "\n",
    "    def __truediv__(self, other):\n",
    "        self.__verify_field__(other, \"divide\")\n",
    "\n",
    "        num = (self.num * pow(other.num, self.prime - 2, self.prime)) % self.prime\n",
    "        return self.__class__(num, self.prime)\n",
    "    \n",
    "    \n",
    "\n"
   ]
  },
  {
   "cell_type": "code",
   "execution_count": 45,
   "metadata": {},
   "outputs": [
    {
     "name": "stdout",
     "output_type": "stream",
     "text": [
      "False\n"
     ]
    }
   ],
   "source": [
    "a = FieldElement(7, 13)\n",
    "b = FieldElement(6, 13)\n",
    "\n",
    "print(a == b)\n"
   ]
  },
  {
   "cell_type": "code",
   "execution_count": 46,
   "metadata": {},
   "outputs": [
    {
     "name": "stdout",
     "output_type": "stream",
     "text": [
      "True\n"
     ]
    }
   ],
   "source": [
    "x = FieldElement(7, 13)\n",
    "y = FieldElement(12, 13)\n",
    "z = FieldElement(7, 13)\n",
    "\n",
    "print(x != y)\n"
   ]
  },
  {
   "cell_type": "code",
   "execution_count": 47,
   "metadata": {},
   "outputs": [
    {
     "data": {
      "text/plain": [
       "FieldElement_13(8)"
      ]
     },
     "execution_count": 47,
     "metadata": {},
     "output_type": "execute_result"
    }
   ],
   "source": [
    "x - y"
   ]
  },
  {
   "cell_type": "code",
   "execution_count": 51,
   "metadata": {},
   "outputs": [
    {
     "name": "stdout",
     "output_type": "stream",
     "text": [
      "p = 7\n",
      "[0, 1, 1, 1, 1, 1, 1]\n",
      "p = 11\n",
      "[0, 1, 1, 1, 1, 1, 1, 1, 1, 1, 1]\n",
      "p = 17\n",
      "[0, 1, 1, 1, 1, 1, 1, 1, 1, 1, 1, 1, 1, 1, 1, 1, 1]\n",
      "p = 31\n",
      "[0, 1, 1, 1, 1, 1, 1, 1, 1, 1, 1, 1, 1, 1, 1, 1, 1, 1, 1, 1, 1, 1, 1, 1, 1, 1, 1, 1, 1, 1, 1]\n"
     ]
    }
   ],
   "source": [
    "# Exercise 7\n",
    "\n",
    "\"\"\"\n",
    "For p = 7, 11, 17, 31, what is this set in Fp?\n",
    "{1^(p - 1), 2^(p - 1), 3^(p - 1), 4^(p - 1), ... (p - 1)^(p - 1)}\n",
    "\"\"\"\n",
    "\n",
    "ps = [7, 11, 17, 31]\n",
    "\n",
    "for p in ps:\n",
    "    print(f\"p = {p}\")\n",
    "    print([pow(i, p - 1, p) for i in range(p)])\n",
    "\n",
    "\n"
   ]
  },
  {
   "cell_type": "code",
   "execution_count": null,
   "metadata": {},
   "outputs": [],
   "source": [
    "# Fermat's Little Theorem\n",
    "\"\"\"\n",
    "n^(p - 1) mod p = 1\n",
    "\n",
    "because division is the inverse of multiplication, we know:\n",
    "a / b = a * (1 / b) = a * b^-1\n",
    "\n",
    "therefore we can reduce any division problem to a multiplication problem, if we know\n",
    "the multiplicative inverse of b (b^-1). This is where Fermat's Little Theorem comes into play.\n",
    "we know:\n",
    "\n",
    "b^(p - 1) = 1\n",
    "\n",
    "because p is prime. Thus:\n",
    "b^-1 = b^-1 * 1 = b^-1 * b^(p - 1) = b^(p - 2)\n",
    "\n",
    "therefore:\n",
    "b^-1 = b^(p - 2)\n",
    "\n",
    "therefore for F19\n",
    "\n",
    "2/7 = 2 * 7 ^ (19 - 2) = 2 . 7 ^ 17 % 19 = 3\n",
    "7/5 = 7 * 5 ^ (19 - 2) = 7 . 5 ^ 17 % 19 = 9\n",
    "\n",
    "\n",
    "\"\"\""
   ]
  },
  {
   "cell_type": "code",
   "execution_count": null,
   "metadata": {},
   "outputs": [],
   "source": [
    "# Exercise 8\n",
    "\n",
    "\"\"\"\n",
    "For F31\n",
    "\n",
    "3 / 24 = 3 * 24 ^ (31 - 2) = 3 * 24 ^ 29 % 31 = 4\n",
    "17 ^ -3 = 17 ^ (31 - 4) = 17 ^ 27 % 31 = 29\n",
    "4^-4 * 11 = 4 ^ (31 - 5) * 11 % 31 = 13\n",
    "\n",
    "\n",
    "\"\"\""
   ]
  },
  {
   "cell_type": "code",
   "execution_count": 56,
   "metadata": {},
   "outputs": [
    {
     "data": {
      "text/plain": [
       "FieldElement_31(4)"
      ]
     },
     "execution_count": 56,
     "metadata": {},
     "output_type": "execute_result"
    }
   ],
   "source": [
    "a = FieldElement(3, 31)\n",
    "b = FieldElement(24, 31)\n",
    "\n",
    "a / b\n"
   ]
  },
  {
   "cell_type": "code",
   "execution_count": 64,
   "metadata": {},
   "outputs": [
    {
     "data": {
      "text/plain": [
       "FieldElement_31(29)"
      ]
     },
     "execution_count": 64,
     "metadata": {},
     "output_type": "execute_result"
    }
   ],
   "source": [
    "a = FieldElement(17, 31)\n",
    "b = FieldElement(4, 31)\n",
    "\n",
    "a ** -3"
   ]
  },
  {
   "cell_type": "code",
   "execution_count": 60,
   "metadata": {},
   "outputs": [
    {
     "data": {
      "text/plain": [
       "FieldElement_31(13)"
      ]
     },
     "execution_count": 60,
     "metadata": {},
     "output_type": "execute_result"
    }
   ],
   "source": [
    "b ** -4 * FieldElement(11, 31)"
   ]
  },
  {
   "cell_type": "code",
   "execution_count": 67,
   "metadata": {},
   "outputs": [
    {
     "data": {
      "text/plain": [
       "True"
      ]
     },
     "execution_count": 67,
     "metadata": {},
     "output_type": "execute_result"
    }
   ],
   "source": [
    "a = FieldElement(7, 13)\n",
    "b = FieldElement(8, 13)\n",
    "\n",
    "a ** -3 == b"
   ]
  },
  {
   "cell_type": "code",
   "execution_count": null,
   "metadata": {},
   "outputs": [],
   "source": []
  }
 ],
 "metadata": {
  "kernelspec": {
   "display_name": "Python 3.10.6 64-bit",
   "language": "python",
   "name": "python3"
  },
  "language_info": {
   "codemirror_mode": {
    "name": "ipython",
    "version": 3
   },
   "file_extension": ".py",
   "mimetype": "text/x-python",
   "name": "python",
   "nbconvert_exporter": "python",
   "pygments_lexer": "ipython3",
   "version": "3.10.6"
  },
  "orig_nbformat": 4,
  "vscode": {
   "interpreter": {
    "hash": "916dbcbb3f70747c44a77c7bcd40155683ae19c65e1c03b4aa3499c5328201f1"
   }
  }
 },
 "nbformat": 4,
 "nbformat_minor": 2
}
