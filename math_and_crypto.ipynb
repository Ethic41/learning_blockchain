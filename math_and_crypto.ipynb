{
 "cells": [
  {
   "cell_type": "code",
   "execution_count": null,
   "metadata": {},
   "outputs": [],
   "source": [
    "#!/usr/bin/env python\n",
    "# -=-<[ Bismillahirrahmanirrahim ]>-=-\n",
    "# -*- coding: utf-8 -*-\n",
    "# @Date    : 2022-12-06 03:58:17\n",
    "# @Author  : Dahir Muhammad Dahir (dahirmuhammad3@gmail.com)\n",
    "# @Link    : link\n",
    "# @Version : 1.0.0\n",
    "\n",
    "\n",
    "# Finite Field Definition\n",
    "\"\"\"\n",
    "Mathematically, a finite field is defined as a finite set of numbers and two operations +\n",
    "(addition) and ⋅ (multiplication) that satisfy the following:\n",
    "\n",
    "1. If a and b are in the set, a + b and a ⋅ b are in the set. We call this property closed.\n",
    "2. 0 exists and has the property a + 0 = a. We call this the additive identity.\n",
    "3. 1 exists and has the property a ⋅ 1 = a. We call this the multiplicative identity.\n",
    "4. If a is in the set, -a is in the set, which is defined as the value that makes a + (-a) = 0. \n",
    "   This is what we call the additive inverse.\n",
    "5. If a is in the set and is not 0, a-1 is in the set, which is defined as the value that\n",
    "makes a ⋅ a-1 = 1. This is what we call the multiplicative inverse.\n",
    "\n",
    "\"\"\"\n",
    "\n",
    "class FieldElement:\n",
    "\n",
    "    def __init__(self, num, prime):\n",
    "        if num >= prime or num < 0:\n",
    "            error = f\"Num {num} not in field range 0 to {prime - 1}\"\n",
    "            raise ValueError(error)\n",
    "        \n",
    "        self.num = num\n",
    "        self.prime = prime\n",
    "    \n",
    "\n",
    "    def __repr__(self):\n",
    "        return f\"FieldElement_{self.prime}({self.num})\"\n",
    "    \n",
    "\n",
    "    def __eq__(self, other):\n",
    "        if other is None:\n",
    "            return False\n",
    "        \n",
    "        return self.num == other.num and self.prime == other.prime\n",
    "\n",
    "\n",
    "\n"
   ]
  }
 ],
 "metadata": {
  "kernelspec": {
   "display_name": "Python 3.10.6 64-bit",
   "language": "python",
   "name": "python3"
  },
  "language_info": {
   "name": "python",
   "version": "3.10.6"
  },
  "orig_nbformat": 4,
  "vscode": {
   "interpreter": {
    "hash": "916dbcbb3f70747c44a77c7bcd40155683ae19c65e1c03b4aa3499c5328201f1"
   }
  }
 },
 "nbformat": 4,
 "nbformat_minor": 2
}
